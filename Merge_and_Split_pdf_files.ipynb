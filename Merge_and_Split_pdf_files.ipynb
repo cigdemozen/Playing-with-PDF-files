{
  "nbformat": 4,
  "nbformat_minor": 0,
  "metadata": {
    "colab": {
      "name": "Merge and Split pdf files.ipynb",
      "provenance": [],
      "collapsed_sections": []
    },
    "kernelspec": {
      "name": "python3",
      "display_name": "Python 3"
    },
    "language_info": {
      "name": "python"
    }
  },
  "cells": [
    {
      "cell_type": "markdown",
      "metadata": {
        "id": "rQun4TR3fe_e"
      },
      "source": [
        "#**Splitting and Merging PDFs with Python**\n",
        "\n",
        "[link text](https://www.blog.pythonlibrary.org/2018/04/11/splitting-and-merging-pdfs-with-python/)"
      ]
    },
    {
      "cell_type": "code",
      "metadata": {
        "id": "6kBe4GzIRHE1",
        "colab": {
          "base_uri": "https://localhost:8080/"
        },
        "outputId": "dd70b116-4769-428f-d51e-75462dec5d1b"
      },
      "source": [
        "#installing the pypdf2 library\n",
        "!pip install pypdf2 "
      ],
      "execution_count": null,
      "outputs": [
        {
          "output_type": "stream",
          "name": "stdout",
          "text": [
            "Collecting pypdf2\n",
            "  Downloading PyPDF2-1.26.0.tar.gz (77 kB)\n",
            "\u001b[?25l\r\u001b[K     |████▎                           | 10 kB 21.4 MB/s eta 0:00:01\r\u001b[K     |████████▌                       | 20 kB 27.9 MB/s eta 0:00:01\r\u001b[K     |████████████▊                   | 30 kB 13.1 MB/s eta 0:00:01\r\u001b[K     |█████████████████               | 40 kB 9.8 MB/s eta 0:00:01\r\u001b[K     |█████████████████████▏          | 51 kB 5.4 MB/s eta 0:00:01\r\u001b[K     |█████████████████████████▍      | 61 kB 5.9 MB/s eta 0:00:01\r\u001b[K     |█████████████████████████████▋  | 71 kB 5.9 MB/s eta 0:00:01\r\u001b[K     |████████████████████████████████| 77 kB 3.3 MB/s \n",
            "\u001b[?25hBuilding wheels for collected packages: pypdf2\n",
            "  Building wheel for pypdf2 (setup.py) ... \u001b[?25l\u001b[?25hdone\n",
            "  Created wheel for pypdf2: filename=PyPDF2-1.26.0-py3-none-any.whl size=61101 sha256=4cd0d2ca3b38ee5343ca67ffcd07cafdf1a10872e346b6c9d604ae1bf070fc2d\n",
            "  Stored in directory: /root/.cache/pip/wheels/80/1a/24/648467ade3a77ed20f35cfd2badd32134e96dd25ca811e64b3\n",
            "Successfully built pypdf2\n",
            "Installing collected packages: pypdf2\n",
            "Successfully installed pypdf2-1.26.0\n"
          ]
        }
      ]
    },
    {
      "cell_type": "code",
      "metadata": {
        "id": "MOZfOCEwzsaq",
        "colab": {
          "base_uri": "https://localhost:8080/"
        },
        "outputId": "58b3d2d9-a757-4a7d-e567-ce39be535d6d"
      },
      "source": [
        "# pdf_splitter.py\n",
        "import os\n",
        "from PyPDF2 import PdfFileReader, PdfFileWriter\n",
        "def pdf_splitter(path):\n",
        "    fname = os.path.splitext(os.path.basename(path))[0]\n",
        "    pdf = PdfFileReader(path)\n",
        "    for page in range(pdf.getNumPages()):\n",
        "        pdf_writer = PdfFileWriter()\n",
        "        pdf_writer.addPage(pdf.getPage(page))\n",
        "        output_filename = '{}_page_{}.pdf'.format(\n",
        "            fname, page+1)\n",
        "        with open(output_filename, 'wb') as out:\n",
        "            pdf_writer.write(out)\n",
        "        print('Created: {}'.format(output_filename))\n",
        "if __name__ == '__main__':\n",
        "    path = 'fw9.pdf'\n",
        "    pdf_splitter(path)"
      ],
      "execution_count": null,
      "outputs": [
        {
          "output_type": "stream",
          "name": "stdout",
          "text": [
            "Created: fw9_page_1.pdf\n",
            "Created: fw9_page_2.pdf\n",
            "Created: fw9_page_3.pdf\n",
            "Created: fw9_page_4.pdf\n",
            "Created: fw9_page_5.pdf\n",
            "Created: fw9_page_6.pdf\n"
          ]
        }
      ]
    },
    {
      "cell_type": "code",
      "metadata": {
        "id": "FAwZiRzjkLsM"
      },
      "source": [
        "# pdf_merger.py\n",
        "\n",
        "import glob\n",
        "from PyPDF2 import PdfFileWriter, PdfFileReader\n",
        "\n",
        "def merger(output_path, input_paths):\n",
        "    pdf_writer = PdfFileWriter()\n",
        "\n",
        "    for path in input_paths:\n",
        "        pdf_reader = PdfFileReader(path)\n",
        "        for page in range(pdf_reader.getNumPages()):\n",
        "            pdf_writer.addPage(pdf_reader.getPage(page))\n",
        "\n",
        "    with open(output_path, 'wb') as fh:\n",
        "        pdf_writer.write(fh)\n",
        "\n",
        "\n",
        "if __name__ == '__main__':\n",
        "    paths = glob.glob('fw9_*.pdf')\n",
        "    paths.sort()\n",
        "    merger('pdf_merger.pdf', paths)"
      ],
      "execution_count": null,
      "outputs": []
    },
    {
      "cell_type": "code",
      "metadata": {
        "id": "eubh5pEbojiO"
      },
      "source": [
        "#merge spesific pages \n",
        "def merge(self, position, fileobj, bookmark=None, pages=None, import_bookmarks=True):\n",
        "        \"\"\"\n",
        "        Merges the pages from the given file into the output file at the\n",
        "        specified page number.\n",
        "\n",
        "        :param int position: The *page number* to insert this file. File will\n",
        "            be inserted after the given number.\n",
        "\n",
        "        :param fileobj: A File Object or an object that supports the standard read\n",
        "            and seek methods similar to a File Object. Could also be a\n",
        "            string representing a path to a PDF file.\n",
        "\n",
        "        :param str bookmark: Optionally, you may specify a bookmark to be applied at\n",
        "            the beginning of the included file by supplying the text of the bookmark.\n",
        "\n",
        "        :param pages: can be a :ref:`Page Range <page-range>` or a ``(start, stop[, step])`` tuple\n",
        "            to merge only the specified range of pages from the source\n",
        "            document into the output document.\n",
        "\n",
        "        :param bool import_bookmarks: You may prevent the source document's bookmarks\n",
        "            from being imported by specifying this as ``False``.\n",
        "        \"\"\"\n",
        "</page-range>"
      ],
      "execution_count": null,
      "outputs": []
    },
    {
      "cell_type": "markdown",
      "metadata": {
        "id": "1-p-28uapSUU"
      },
      "source": [
        "#**Extracting Metadata from PDF file**\n",
        "\n",
        "You can use PyPDF2 to extract a fair amount of useful data from any PDF. For example, you can learn the author of the document, its title and subject and how many pages there are. Let’s find out how by downloading the sample of this book from Leanpub at https://leanpub.com/reportlab. The sample I downloaded was called “reportlab-sample.pdf”.\n",
        "\n",
        "Here’s the code:"
      ]
    },
    {
      "cell_type": "code",
      "metadata": {
        "colab": {
          "base_uri": "https://localhost:8080/"
        },
        "id": "1GQaSI6npROO",
        "outputId": "e2e1355c-2b65-4520-8b12-fcbf4ce30957"
      },
      "source": [
        "# get_doc_info.py\n",
        "\n",
        "from PyPDF2 import PdfFileReader\n",
        "\n",
        "\n",
        "def get_info(path):\n",
        "    with open(path, 'rb') as f:\n",
        "        pdf = PdfFileReader(f)\n",
        "        info = pdf.getDocumentInfo()\n",
        "        number_of_pages = pdf.getNumPages()\n",
        "    \n",
        "    print(info)\n",
        "\n",
        "    author = info.author\n",
        "    creator = info.creator\n",
        "    producer = info.producer\n",
        "    subject = info.subject\n",
        "    title = info.title\n",
        "\n",
        "if __name__ == '__main__':\n",
        "    path = 'fw9.pdf'\n",
        "    get_info(path)"
      ],
      "execution_count": null,
      "outputs": [
        {
          "output_type": "stream",
          "name": "stdout",
          "text": [
            "{'/Author': 'SE:W:CAR:MP', '/CreationDate': \"D:20181024094543-05'00'\", '/Creator': 'Adobe LiveCycle Designer ES 9.0', '/Keywords': 'Fillable', '/ModDate': \"D:20181024094543-05'00'\", '/Producer': 'Adobe LiveCycle Designer ES 9.0', '/SPDF': '1112', '/Subject': 'Request for Taxpayer Identification Number and Certification', '/Title': 'Form W-9 (Rev. October 2018)'}\n"
          ]
        }
      ]
    },
    {
      "cell_type": "markdown",
      "metadata": {
        "id": "C1zfo_BVp9tH"
      },
      "source": [
        "Here we import the PdfFileReader class from PyPDF2. This class gives us the ability to read a PDF and extract data from it using various accessor methods. The first thing we do is create our own get_info function that accepts a PDF file path as its only argument. Then we open the file in read-only binary mode. Next we pass that file handler into PdfFileReader and create an instance of it.\n",
        "\n",
        "Now we can extract some information from the PDF by using the getDocumentInfo method. This will return an instance of PyPDF2.pdf.DocumentInformation, which has the following useful attributes, among others:\n",
        "\n",
        "    author\n",
        "    creator\n",
        "    producer\n",
        "    subject\n",
        "    title\n",
        "\n",
        "If you print out the DocumentInformation object, this is what you will see above.\n",
        "\n",
        "We can also get the number of pages in the PDF by calling the `getNumPages` method. \n"
      ]
    },
    {
      "cell_type": "markdown",
      "metadata": {
        "id": "2n81fPfSqbLZ"
      },
      "source": [
        "#Extracting Text from PDFs\n",
        "\n",
        "PyPDF2 has limited support for extracting text from PDFs. It doesn’t have built-in support for extracting images, unfortunately. I have seen some recipes on StackOverflow that use PyPDF2 to extract images, but the code examples seem to be pretty hit or miss.\n",
        "\n",
        "Let’s try to extract the text from the first page of the PDF that we downloaded in the previous section:"
      ]
    },
    {
      "cell_type": "code",
      "metadata": {
        "id": "SQmtWarcqfO6"
      },
      "source": [
        "# extracting_text.py\n",
        "\n",
        "from PyPDF2 import PdfFileReader\n",
        "\n",
        "\n",
        "def text_extractor(path):\n",
        "    with open(path, 'rb') as f:\n",
        "        pdf = PdfFileReader(f)\n",
        "\n",
        "        # get the first page\n",
        "        page = pdf.getPage(1)\n",
        "        print(page)\n",
        "        print('Page type: {}'.format(str(type(page))))\n",
        "\n",
        "        text = page.extractText()\n",
        "        print(text)\n",
        "\n",
        "\n",
        "if __name__ == '__main__':\n",
        "    path = 'fw9.pdf'\n",
        "    text_extractor(path)"
      ],
      "execution_count": null,
      "outputs": []
    },
    {
      "cell_type": "markdown",
      "metadata": {
        "id": "Dh4wV-bcq8_W"
      },
      "source": [
        "You will note that this code starts out in much the same way as our previous example. We still need to create an instance of PdfFileReader. But this time, we grab a page using the getPage method. PyPDF2 is zero-based, much like most things in Python, so when you pass it a one, it actually grabs the second page. The first page in this case is just an image, so it wouldn’t have any text.\n",
        "\n",
        "Interestingly, if you run this example you will find that it doesn’t return any text. Instead all I got was a series of line break characters. Unfortunately, PyPDF2 has pretty limited support for extracting text. Even if it is able to extract text, it may not be in the order you expect and the spacing may be different as well."
      ]
    },
    {
      "cell_type": "markdown",
      "metadata": {
        "id": "czjn13kswLPQ"
      },
      "source": [
        "#**Another method with PYPDF2**"
      ]
    },
    {
      "cell_type": "markdown",
      "metadata": {
        "id": "rkvN855TwxHH"
      },
      "source": [
        "When is method 1 suitable?\n",
        "\n",
        "    When you have lesser number of files\n",
        "    When the group of files to be merged do not have a common filename pattern\n",
        "\n",
        "How this method works?\n",
        "\n",
        "In the following sequence.\n",
        "\n",
        "    Import the PyPDF2 tool kit which has the tools that we need for playing with PDFs\n",
        "    Open each and every file by entering the file name\n",
        "    Read each and every file which was opened in Step 2 using PdfFileReader\n",
        "    Create a blank PDF file using PdfFileWriter where you can store the merged output\n",
        "    Loop through every page in every file which was read in Step 3 using for loop and copy all the information\n",
        "    Give a name for the output file and then paste all the copied information in Step 5\n",
        "    Close all the files\n"
      ]
    },
    {
      "cell_type": "code",
      "metadata": {
        "id": "9uJEQ546wXf4"
      },
      "source": [
        "#Method1 2 files merging\n",
        "import PyPDF2 \n",
        " \n",
        "# Open the files that have to be merged one by one\n",
        "pdf1File = open('FirstInputFile.pdf', 'rb')\n",
        "pdf2File = open('SecondInputFile.pdf', 'rb')\n",
        " \n",
        "# Read the files that you have opened\n",
        "pdf1Reader = PyPDF2.PdfFileReader(pdf1File)\n",
        "pdf2Reader = PyPDF2.PdfFileReader(pdf2File)\n",
        " \n",
        "# Create a new PdfFileWriter object which represents a blank PDF document\n",
        "pdfWriter = PyPDF2.PdfFileWriter()\n",
        " \n",
        "# Loop through all the pagenumbers for the first document\n",
        "for pageNum in range(pdf1Reader.numPages):\n",
        "    pageObj = pdf1Reader.getPage(pageNum)\n",
        "    pdfWriter.addPage(pageObj)\n",
        " \n",
        "# Loop through all the pagenumbers for the second document\n",
        "for pageNum in range(pdf2Reader.numPages):\n",
        "    pageObj = pdf2Reader.getPage(pageNum)\n",
        "    pdfWriter.addPage(pageObj)\n",
        " \n",
        "# Now that you have copied all the pages in both the documents, write them into the a new document\n",
        "pdfOutputFile = open('MergedFiles.pdf', 'wb')\n",
        "pdfWriter.write(pdfOutputFile)\n",
        " \n",
        "# Close all the files - Created as well as opened\n",
        "pdfOutputFile.close()\n",
        "pdf1File.close()\n",
        "pdf2File.close()"
      ],
      "execution_count": null,
      "outputs": []
    },
    {
      "cell_type": "markdown",
      "metadata": {
        "id": "FzXzw2HLwpmN"
      },
      "source": [
        "When is method 2 suitable?\n",
        "\n",
        "    When you have a lot of PDF files ( I mean a loooot – Like for example, hundreds of PDF files or even more)\n",
        "    If all the PDF files that you want to merge follow a naming convention for their file names.\n",
        "\n",
        "How this method works?\n",
        "\n",
        "In the following sequence.\n",
        "\n",
        "    Import PdfFileMerger and PdfFileReader tools\n",
        "    Loop through all the files that have to be merged and append them\n",
        "    Write the appended files into an output document and specify a name for it.\n"
      ]
    },
    {
      "cell_type": "code",
      "metadata": {
        "id": "1FYBrjZswfSz"
      },
      "source": [
        "#Method2\n",
        "from PyPDF2 import PdfFileMerger, PdfFileReader\n",
        " \n",
        "# Call the PdfFileMerger\n",
        "mergedObject = PdfFileMerger()\n",
        " \n",
        "# I had 116 files in the folder that had to be merged into a single document\n",
        "# Loop through all of them and append their pages\n",
        "for fileNumber in range(1, 117):\n",
        "    mergedObject.append(PdfFileReader('6_yuddhakanda_' + str(fileNumber)+ '.pdf', 'rb'))\n",
        " \n",
        "# Write all the files into a file which is named as shown below\n",
        "mergedObject.write(\"mergedfilesoutput.pdf\")"
      ],
      "execution_count": null,
      "outputs": []
    },
    {
      "cell_type": "markdown",
      "metadata": {
        "id": "CZXhlPsmshrQ"
      },
      "source": [
        "#**PDFMINER for extracting text from pdf files**\n"
      ]
    },
    {
      "cell_type": "code",
      "metadata": {
        "colab": {
          "base_uri": "https://localhost:8080/"
        },
        "id": "1WBuFLH5svAx",
        "outputId": "f4b5c062-1d41-4ae5-dc3b-960e96d485e1"
      },
      "source": [
        "pip install pdfminer.six"
      ],
      "execution_count": null,
      "outputs": [
        {
          "output_type": "stream",
          "name": "stdout",
          "text": [
            "Collecting pdfminer.six\n",
            "  Downloading pdfminer.six-20201018-py3-none-any.whl (5.6 MB)\n",
            "\u001b[K     |████████████████████████████████| 5.6 MB 5.3 MB/s \n",
            "\u001b[?25hRequirement already satisfied: chardet in /usr/local/lib/python3.7/dist-packages (from pdfminer.six) (3.0.4)\n",
            "Collecting cryptography\n",
            "  Downloading cryptography-3.4.8-cp36-abi3-manylinux_2_24_x86_64.whl (3.0 MB)\n",
            "\u001b[K     |████████████████████████████████| 3.0 MB 43.4 MB/s \n",
            "\u001b[?25hRequirement already satisfied: sortedcontainers in /usr/local/lib/python3.7/dist-packages (from pdfminer.six) (2.4.0)\n",
            "Requirement already satisfied: cffi>=1.12 in /usr/local/lib/python3.7/dist-packages (from cryptography->pdfminer.six) (1.14.6)\n",
            "Requirement already satisfied: pycparser in /usr/local/lib/python3.7/dist-packages (from cffi>=1.12->cryptography->pdfminer.six) (2.20)\n",
            "Installing collected packages: cryptography, pdfminer.six\n",
            "Successfully installed cryptography-3.4.8 pdfminer.six-20201018\n"
          ]
        }
      ]
    },
    {
      "cell_type": "code",
      "metadata": {
        "id": "hVpi2VJnqWph"
      },
      "source": [
        "from pdfminer.high_level import extract_text\n",
        "\n",
        "text = extract_text('fw9_page_1.pdf')\n",
        "print(text)\n"
      ],
      "execution_count": null,
      "outputs": []
    }
  ]
}